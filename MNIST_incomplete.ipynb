{
 "cells": [
  {
   "cell_type": "markdown",
   "metadata": {},
   "source": [
    "## CAIS++ Logistic Regression Workshop\n",
    "\n",
    "Before you go through this code, make sure you read [lesson 3]('http://caisplusplus.usc.edu/blog/curriculum/lesson3') from our curriculum"
   ]
  },
  {
   "cell_type": "code",
   "execution_count": 17,
   "metadata": {},
   "outputs": [
    {
     "name": "stdout",
     "output_type": "stream",
     "text": [
      "<class 'tuple'>\n",
      "<class 'tuple'>\n"
     ]
    }
   ],
   "source": [
    "import pickle # used to save and restore python objects\n",
    "import gzip\n",
    "import numpy as np\n",
    "\n",
    "# Load the dataset\n",
    "f = gzip.open('mnist.pkl.gz', 'rb')\n",
    "train_set, valid_set, test_set = pickle.load(f, encoding = 'latin1')\n",
    "f.close()\n",
    "\n",
    "# gather intelligence on the data\n",
    "print(type(train_set))\n",
    "print(type(test_set))"
   ]
  },
  {
   "cell_type": "code",
   "execution_count": 18,
   "metadata": {},
   "outputs": [
    {
     "name": "stdout",
     "output_type": "stream",
     "text": [
      "Inputs:\n",
      "[[ 0.  0.  0. ...,  0.  0.  0.]\n",
      " [ 0.  0.  0. ...,  0.  0.  0.]\n",
      " [ 0.  0.  0. ...,  0.  0.  0.]\n",
      " ..., \n",
      " [ 0.  0.  0. ...,  0.  0.  0.]\n",
      " [ 0.  0.  0. ...,  0.  0.  0.]\n",
      " [ 0.  0.  0. ...,  0.  0.  0.]]\n",
      "Inputs shape is (50000, 784)\n",
      "Input type is <class 'numpy.ndarray'>\n",
      "Labels:\n",
      "[5 0 4 ..., 8 4 8]\n",
      "Labels shape is(50000,)\n",
      "Labels type is <class 'numpy.ndarray'>\n"
     ]
    }
   ],
   "source": [
    "# taking a closer look at the data, and how it is formatted. \n",
    "print(\"Inputs:\")\n",
    "print(train_set[0])\n",
    "\n",
    "## There's 50,000 MNIST images, each rerpesented as a vector of length 784 (28 x 28).\n",
    "## A 0 corresponds to a dark pixel, and a 1 corresponds to a light pixel\n",
    "print(\"Inputs shape is \" + str(train_set[0].shape)) \n",
    "print(\"Input type is \" + str(type(train_set[0])))\n",
    "print(\"Labels:\")\n",
    "\n",
    "## There's 50,000 labels (one for each example)\n",
    "print(train_set[1])\n",
    "print(\"Labels shape is\" + str(train_set[1].shape))\n",
    "print(\"Labels type is \" + str(type(train_set[1])))"
   ]
  },
  {
   "cell_type": "code",
   "execution_count": 19,
   "metadata": {
    "collapsed": true
   },
   "outputs": [],
   "source": [
    "import numpy as np\n",
    "def to_categorical(y, nb_classes):\n",
    "    \"\"\" to_categorical.\n",
    "\n",
    "    Convert class vector (integers from 0 to nb_classes)\n",
    "    to binary class matrix, for use with categorical_crossentropy.\n",
    "\n",
    "    Arguments:\n",
    "        y: `array`. Class vector to convert.\n",
    "        nb_classes: `int`. Total number of classes.\n",
    "\n",
    "    \"\"\"\n",
    "    y = np.asarray(y, dtype='int32')\n",
    "    if not nb_classes:\n",
    "        nb_classes = np.max(y)+1\n",
    "    Y = np.zeros((len(y), nb_classes))\n",
    "    Y[np.arange(len(y)),y] = 1.\n",
    "    return Y"
   ]
  },
  {
   "cell_type": "code",
   "execution_count": 20,
   "metadata": {},
   "outputs": [
    {
     "name": "stdout",
     "output_type": "stream",
     "text": [
      "[[ 0.  0.  0.  0.  0.  0.  0.  1.  0.  0.]\n",
      " [ 0.  0.  1.  0.  0.  0.  0.  0.  0.  0.]\n",
      " [ 0.  1.  0.  0.  0.  0.  0.  0.  0.  0.]\n",
      " [ 1.  0.  0.  0.  0.  0.  0.  0.  0.  0.]\n",
      " [ 0.  0.  0.  0.  1.  0.  0.  0.  0.  0.]]\n"
     ]
    }
   ],
   "source": [
    "train_x = train_set[0]\n",
    "train_y = to_categorical(train_set[1], 10)\n",
    "test_x = test_set[0]\n",
    "test_y = to_categorical(test_set[1],10)\n",
    "\n",
    "# let's see result of categorizing the outputs\n",
    "print(test_y[:5])"
   ]
  },
  {
   "cell_type": "code",
   "execution_count": 28,
   "metadata": {
    "collapsed": true
   },
   "outputs": [],
   "source": [
    "## generate_batch() is pretty simple - all it really does is return a \"batch\" of data (MNIST images)\n",
    "## An an argument, it takes in the desired batch size.\n",
    "## We want to complete the \"indexes = \" line, where we want to randomly choose a set of images from the training set\n",
    "## The size of this set should be equal to the batch_size\n",
    "\n",
    "## A hint: use the np.random.randomint() function to intialize the \"indexes\" variable.\n",
    "## Now you can see we are just returning the images from train_x that correspond to the indexes\n",
    "\n",
    "def generate_batch(batch_size):\n",
    "    \n",
    "    return train_x[indexes], train_y[indexes]"
   ]
  },
  {
   "cell_type": "code",
   "execution_count": 22,
   "metadata": {
    "collapsed": true
   },
   "outputs": [],
   "source": [
    "import tensorflow as tf\n",
    "# this just helps with using tensorflow inside jupyter\n",
    "# (basically, resets/clears all the tensorflow variables)\n",
    "tf.reset_default_graph()"
   ]
  },
  {
   "cell_type": "code",
   "execution_count": 23,
   "metadata": {
    "collapsed": true
   },
   "outputs": [],
   "source": [
    "# Creating and initializing tensorflow graph placeholders and variables.\n",
    "# W, and b (our weights and biases, have been declared for you already):\n",
    "\n",
    "W = tf.get_variable(\"W\", shape=[784, 10], initializer = tf.contrib.layers.xavier_initializer())\n",
    "\n",
    "b = tf.Variable(tf.zeros([10]))\n",
    "\n",
    "## Now, create a Tenserflow placeholder for x, and y_ \n",
    "## More info here: https://www.tensorflow.org/versions/r1.1/get_started/mnist/beginners\n",
    "## (y_ is a placeholder for the correct answers (the one-hot vector with digit labels))\n",
    "\n"
   ]
  },
  {
   "cell_type": "markdown",
   "metadata": {},
   "source": [
    "<img src=\"https://www.tensorflow.org/versions/r1.1/images/softmax-regression-scalargraph.png\" style=\"width: 600px;\"/>\n",
    "<br />\n",
    "<br />\n",
    "<img src=\"https://www.tensorflow.org/versions/r1.1/images/softmax-regression-vectorequation.png\" style=\"width: 600px;\"/>\n",
    "<br />\n",
    "<br />\n",
    "\n",
    "\n",
    "$$y = \\text{softmax}(Wx + b)$$"
   ]
  },
  {
   "cell_type": "code",
   "execution_count": 24,
   "metadata": {
    "collapsed": true
   },
   "outputs": [],
   "source": [
    "## Declaring our hypothesis funcion - use tf.nn.softmax() and tf.matmul() function to matrix multiply x and W.\n",
    "## initialize to y\n"
   ]
  },
  {
   "cell_type": "code",
   "execution_count": 25,
   "metadata": {
    "collapsed": true
   },
   "outputs": [],
   "source": [
    "# establish the loss function and gradient descent optimizer operations\n",
    "loss = tf.reduce_mean(-tf.reduce_sum(y_ * tf.log(y), reduction_indices=[1]))\n",
    "train_step = tf.train.GradientDescentOptimizer(.01).minimize(loss)"
   ]
  },
  {
   "cell_type": "code",
   "execution_count": 26,
   "metadata": {
    "collapsed": true
   },
   "outputs": [],
   "source": [
    "sess = tf.InteractiveSession()\n",
    "tf.global_variables_initializer().run()"
   ]
  },
  {
   "cell_type": "code",
   "execution_count": 29,
   "metadata": {
    "collapsed": true
   },
   "outputs": [],
   "source": [
    "'''\n",
    "Create a loop to run the training algorithm. The header has been defined for you already.\n",
    "Inside the loop:\n",
    "create variables batch_xs, and batch_ys, which will be our x training batch and y training batch. Use generate_bactch()\n",
    "call sess.run() (info here: https://www.tensorflow.org/api_docs/python/tf/InteractiveSession#run)\n",
    "    i) in sess.run(), the fetches argument will be the train_step defined above\n",
    "   ii) The feed_dict will pass batch_xs for the x placeholder, and batch_ys for the y_ placeholder\n",
    "'''\n",
    "\n",
    "for i in range(50000):\n",
    "    \n",
    "    ##write code here:\n",
    "       "
   ]
  },
  {
   "cell_type": "code",
   "execution_count": 30,
   "metadata": {
    "collapsed": true
   },
   "outputs": [],
   "source": [
    "'''\n",
    "We want to see how accurate our predictions are compared to actual target values:\n",
    "Use tf.equal() and tf.argmax() to compare y with y_1. \n",
    "\n",
    "'''\n",
    "correct_prediction = \n",
    "\n",
    "accuracy = tf.reduce_mean(tf.cast(correct_prediction, tf.float32)) \n"
   ]
  },
  {
   "cell_type": "code",
   "execution_count": 31,
   "metadata": {},
   "outputs": [
    {
     "name": "stdout",
     "output_type": "stream",
     "text": [
      "0.9209\n"
     ]
    }
   ],
   "source": [
    "# test your predictions, using built in test dataset\n",
    "print(sess.run(accuracy, feed_dict={x: test_x, y_: test_y}))"
   ]
  },
  {
   "cell_type": "code",
   "execution_count": null,
   "metadata": {
    "collapsed": true
   },
   "outputs": [],
   "source": []
  }
 ],
 "metadata": {
  "kernelspec": {
   "display_name": "Python [conda env:caispp]",
   "language": "python",
   "name": "conda-env-caispp-py"
  },
  "language_info": {
   "codemirror_mode": {
    "name": "ipython",
    "version": 3
   },
   "file_extension": ".py",
   "mimetype": "text/x-python",
   "name": "python",
   "nbconvert_exporter": "python",
   "pygments_lexer": "ipython3",
   "version": "3.5.4"
  }
 },
 "nbformat": 4,
 "nbformat_minor": 2
}
